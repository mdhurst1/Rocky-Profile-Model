{
 "cells": [
  {
   "cell_type": "code",
   "execution_count": 1,
   "metadata": {},
   "outputs": [],
   "source": [
    "# import modules\n",
    "import numpy as np\n",
    "from scipy import stats \n",
    "import matplotlib.pyplot as plt\n",
    "from matplotlib import cm\n",
    "from matplotlib import rc\n",
    "from mpl_toolkits.axes_grid1.inset_locator import (inset_axes, InsetPosition, mark_inset)\n",
    "import pandas as pd\n",
    "import math\n",
    "%matplotlib inline"
   ]
  },
  {
   "cell_type": "code",
   "execution_count": 3,
   "metadata": {},
   "outputs": [
    {
     "data": {
      "text/html": [
       "<div>\n",
       "<style scoped>\n",
       "    .dataframe tbody tr th:only-of-type {\n",
       "        vertical-align: middle;\n",
       "    }\n",
       "\n",
       "    .dataframe tbody tr th {\n",
       "        vertical-align: top;\n",
       "    }\n",
       "\n",
       "    .dataframe thead th {\n",
       "        text-align: right;\n",
       "    }\n",
       "</style>\n",
       "<table border=\"1\" class=\"dataframe\">\n",
       "  <thead>\n",
       "    <tr style=\"text-align: right;\">\n",
       "      <th></th>\n",
       "      <th>Unnamed: 0</th>\n",
       "      <th>mcmc_id</th>\n",
       "      <th>interface</th>\n",
       "      <th>FR</th>\n",
       "      <th>K</th>\n",
       "      <th>Y</th>\n",
       "      <th>rmse</th>\n",
       "      <th>CRNrmse</th>\n",
       "      <th>Reject</th>\n",
       "      <th>Like</th>\n",
       "    </tr>\n",
       "  </thead>\n",
       "  <tbody>\n",
       "    <tr>\n",
       "      <th>0</th>\n",
       "      <td>0</td>\n",
       "      <td>1</td>\n",
       "      <td>NO_ID</td>\n",
       "      <td>2.000000</td>\n",
       "      <td>-4.000000</td>\n",
       "      <td>-1.400000</td>\n",
       "      <td>0.780884</td>\n",
       "      <td>3530.62</td>\n",
       "      <td>False</td>\n",
       "      <td>-6.57974</td>\n",
       "    </tr>\n",
       "    <tr>\n",
       "      <th>1</th>\n",
       "      <td>1</td>\n",
       "      <td>3</td>\n",
       "      <td>NO_ID</td>\n",
       "      <td>1.641706</td>\n",
       "      <td>-3.478398</td>\n",
       "      <td>-1.588790</td>\n",
       "      <td>1.831960</td>\n",
       "      <td>1549.09</td>\n",
       "      <td>False</td>\n",
       "      <td>-6.41606</td>\n",
       "    </tr>\n",
       "    <tr>\n",
       "      <th>2</th>\n",
       "      <td>2</td>\n",
       "      <td>4</td>\n",
       "      <td>NO_ID</td>\n",
       "      <td>1.855062</td>\n",
       "      <td>-3.408226</td>\n",
       "      <td>-1.382437</td>\n",
       "      <td>0.839622</td>\n",
       "      <td>2299.01</td>\n",
       "      <td>False</td>\n",
       "      <td>-4.35371</td>\n",
       "    </tr>\n",
       "    <tr>\n",
       "      <th>3</th>\n",
       "      <td>3</td>\n",
       "      <td>6</td>\n",
       "      <td>NO_ID</td>\n",
       "      <td>1.198227</td>\n",
       "      <td>-4.001504</td>\n",
       "      <td>-1.469654</td>\n",
       "      <td>1.612860</td>\n",
       "      <td>2213.28</td>\n",
       "      <td>False</td>\n",
       "      <td>-6.37413</td>\n",
       "    </tr>\n",
       "    <tr>\n",
       "      <th>4</th>\n",
       "      <td>4</td>\n",
       "      <td>11</td>\n",
       "      <td>NO_ID</td>\n",
       "      <td>2.867350</td>\n",
       "      <td>-2.658376</td>\n",
       "      <td>-1.472506</td>\n",
       "      <td>1.359620</td>\n",
       "      <td>1714.91</td>\n",
       "      <td>False</td>\n",
       "      <td>-4.88589</td>\n",
       "    </tr>\n",
       "  </tbody>\n",
       "</table>\n",
       "</div>"
      ],
      "text/plain": [
       "   Unnamed: 0  mcmc_id interface        FR         K         Y      rmse  \\\n",
       "0           0        1     NO_ID  2.000000 -4.000000 -1.400000  0.780884   \n",
       "1           1        3     NO_ID  1.641706 -3.478398 -1.588790  1.831960   \n",
       "2           2        4     NO_ID  1.855062 -3.408226 -1.382437  0.839622   \n",
       "3           3        6     NO_ID  1.198227 -4.001504 -1.469654  1.612860   \n",
       "4           4       11     NO_ID  2.867350 -2.658376 -1.472506  1.359620   \n",
       "\n",
       "   CRNrmse  Reject     Like  \n",
       "0  3530.62   False -6.57974  \n",
       "1  1549.09   False -6.41606  \n",
       "2  2299.01   False -4.35371  \n",
       "3  2213.28   False -6.37413  \n",
       "4  1714.91   False -4.88589  "
      ]
     },
     "execution_count": 3,
     "metadata": {},
     "output_type": "execute_result"
    }
   ],
   "source": [
    "#load edited accepted sample file\n",
    "#this is created with ipynt Accepted_results\n",
    "Filename = \"Accepted_Final_SM_test1.csv\"  #\"RPM_dakota_w.dat\"\n",
    "Accept_DF = pd.read_csv(Filename,sep = \",\",engine='python')\n",
    "Accept_DF.head()"
   ]
  },
  {
   "cell_type": "code",
   "execution_count": 4,
   "metadata": {},
   "outputs": [
    {
     "data": {
      "text/plain": [
       "<Figure size 432x288 with 0 Axes>"
      ]
     },
     "metadata": {},
     "output_type": "display_data"
    },
    {
     "data": {
      "image/png": "[encoded data removed]",
      "text/plain": [
       "<Figure size 720x288 with 1 Axes>"
      ]
     },
     "metadata": {
      "needs_background": "light"
     },
     "output_type": "display_data"
    }
   ],
   "source": [
    "#Plot distribution of loglikelihood values \n",
    "fig = plt.figure(1)\n",
    "\n",
    "plt.figure(figsize=(10,4))\n",
    "ax1 = plt.subplot(121)\n",
    "\n",
    "Y=Accept_DF.Like\n",
    "\n",
    "x, bins, like=ax1.hist(Y,bins=15,density=True,color=[0,0.6,0.6,0.4])"
   ]
  },
  {
   "cell_type": "code",
   "execution_count": 5,
   "metadata": {},
   "outputs": [
    {
     "data": {
      "text/html": [
       "<div>\n",
       "<style scoped>\n",
       "    .dataframe tbody tr th:only-of-type {\n",
       "        vertical-align: middle;\n",
       "    }\n",
       "\n",
       "    .dataframe tbody tr th {\n",
       "        vertical-align: top;\n",
       "    }\n",
       "\n",
       "    .dataframe thead th {\n",
       "        text-align: right;\n",
       "    }\n",
       "</style>\n",
       "<table border=\"1\" class=\"dataframe\">\n",
       "  <thead>\n",
       "    <tr style=\"text-align: right;\">\n",
       "      <th></th>\n",
       "      <th>Unnamed: 0</th>\n",
       "      <th>mcmc_id</th>\n",
       "      <th>interface</th>\n",
       "      <th>FR</th>\n",
       "      <th>K</th>\n",
       "      <th>Y</th>\n",
       "      <th>rmse</th>\n",
       "      <th>CRNrmse</th>\n",
       "      <th>Reject</th>\n",
       "      <th>Like</th>\n",
       "      <th>likelihood</th>\n",
       "    </tr>\n",
       "  </thead>\n",
       "  <tbody>\n",
       "    <tr>\n",
       "      <th>0</th>\n",
       "      <td>0</td>\n",
       "      <td>1</td>\n",
       "      <td>NO_ID</td>\n",
       "      <td>2.000000</td>\n",
       "      <td>-4.000000</td>\n",
       "      <td>-1.400000</td>\n",
       "      <td>0.780884</td>\n",
       "      <td>3530.62</td>\n",
       "      <td>False</td>\n",
       "      <td>-6.57974</td>\n",
       "      <td>0.001388</td>\n",
       "    </tr>\n",
       "    <tr>\n",
       "      <th>1</th>\n",
       "      <td>1</td>\n",
       "      <td>3</td>\n",
       "      <td>NO_ID</td>\n",
       "      <td>1.641706</td>\n",
       "      <td>-3.478398</td>\n",
       "      <td>-1.588790</td>\n",
       "      <td>1.831960</td>\n",
       "      <td>1549.09</td>\n",
       "      <td>False</td>\n",
       "      <td>-6.41606</td>\n",
       "      <td>0.001635</td>\n",
       "    </tr>\n",
       "    <tr>\n",
       "      <th>2</th>\n",
       "      <td>2</td>\n",
       "      <td>4</td>\n",
       "      <td>NO_ID</td>\n",
       "      <td>1.855062</td>\n",
       "      <td>-3.408226</td>\n",
       "      <td>-1.382437</td>\n",
       "      <td>0.839622</td>\n",
       "      <td>2299.01</td>\n",
       "      <td>False</td>\n",
       "      <td>-4.35371</td>\n",
       "      <td>0.012859</td>\n",
       "    </tr>\n",
       "    <tr>\n",
       "      <th>3</th>\n",
       "      <td>3</td>\n",
       "      <td>6</td>\n",
       "      <td>NO_ID</td>\n",
       "      <td>1.198227</td>\n",
       "      <td>-4.001504</td>\n",
       "      <td>-1.469654</td>\n",
       "      <td>1.612860</td>\n",
       "      <td>2213.28</td>\n",
       "      <td>False</td>\n",
       "      <td>-6.37413</td>\n",
       "      <td>0.001705</td>\n",
       "    </tr>\n",
       "    <tr>\n",
       "      <th>4</th>\n",
       "      <td>4</td>\n",
       "      <td>11</td>\n",
       "      <td>NO_ID</td>\n",
       "      <td>2.867350</td>\n",
       "      <td>-2.658376</td>\n",
       "      <td>-1.472506</td>\n",
       "      <td>1.359620</td>\n",
       "      <td>1714.91</td>\n",
       "      <td>False</td>\n",
       "      <td>-4.88589</td>\n",
       "      <td>0.007552</td>\n",
       "    </tr>\n",
       "  </tbody>\n",
       "</table>\n",
       "</div>"
      ],
      "text/plain": [
       "   Unnamed: 0  mcmc_id interface        FR         K         Y      rmse  \\\n",
       "0           0        1     NO_ID  2.000000 -4.000000 -1.400000  0.780884   \n",
       "1           1        3     NO_ID  1.641706 -3.478398 -1.588790  1.831960   \n",
       "2           2        4     NO_ID  1.855062 -3.408226 -1.382437  0.839622   \n",
       "3           3        6     NO_ID  1.198227 -4.001504 -1.469654  1.612860   \n",
       "4           4       11     NO_ID  2.867350 -2.658376 -1.472506  1.359620   \n",
       "\n",
       "   CRNrmse  Reject     Like  likelihood  \n",
       "0  3530.62   False -6.57974    0.001388  \n",
       "1  1549.09   False -6.41606    0.001635  \n",
       "2  2299.01   False -4.35371    0.012859  \n",
       "3  2213.28   False -6.37413    0.001705  \n",
       "4  1714.91   False -4.88589    0.007552  "
      ]
     },
     "execution_count": 5,
     "metadata": {},
     "output_type": "execute_result"
    }
   ],
   "source": [
    "#calculate likelihood values from log-likelihood values and add to dataframe \n",
    "\n",
    "likelihoods = np.exp(Accept_DF.Like)\n",
    "\n",
    "Accept_DF['likelihood'] = likelihoods\n",
    "Accept_DF.head()"
   ]
  },
  {
   "cell_type": "code",
   "execution_count": 5,
   "metadata": {},
   "outputs": [],
   "source": [
    "#save likelihood file to csv\n",
    "##Accept_DF.to_csv(\"Accepted_SY955_likelihoods.csv\")\n",
    "#Accept_DF.head()"
   ]
  },
  {
   "cell_type": "code",
   "execution_count": 6,
   "metadata": {},
   "outputs": [
    {
     "data": {
      "text/plain": [
       "<Figure size 432x288 with 0 Axes>"
      ]
     },
     "metadata": {},
     "output_type": "display_data"
    },
    {
     "data": {
      "image/png": "[encoded data removed]",
      "text/plain": [
       "<Figure size 720x288 with 1 Axes>"
      ]
     },
     "metadata": {
      "needs_background": "light"
     },
     "output_type": "display_data"
    }
   ],
   "source": [
    "#Plot distribution of likelihood values \n",
    "fig = plt.figure(1)\n",
    "\n",
    "plt.figure(figsize=(10,4))\n",
    "ax1 = plt.subplot(121)\n",
    "\n",
    "Y=Accept_DF.likelihood\n",
    "\n",
    "x, bins, like=ax1.hist(Y,bins=15,density=True,color=[0,0.6,0.6,0.4])"
   ]
  },
  {
   "cell_type": "code",
   "execution_count": 13,
   "metadata": {},
   "outputs": [
    {
     "data": {
      "image/png": "[encoded data removed]",
      "text/plain": [
       "<Figure size 720x288 with 2 Axes>"
      ]
     },
     "metadata": {
      "needs_background": "light"
     },
     "output_type": "display_data"
    },
    {
     "data": {
      "text/plain": [
       "<Figure size 432x288 with 0 Axes>"
      ]
     },
     "metadata": {},
     "output_type": "display_data"
    }
   ],
   "source": [
    "###########\n",
    "#plot weighted posterior histograms\n",
    "###########\n",
    "\n",
    "#Y parameter histogram \n",
    "x1 = Accept_DF.Y\n",
    "\n",
    "#weightings\n",
    "loglike_weight = Accept_DF.Like\n",
    "#likelihood_weight = Accept_DF.likelihood\n",
    "\n",
    "\n",
    "#Calculate density for non-weighted results \n",
    "density1, bins = np.histogram(x1, density=True)\n",
    "unity_density1 = density1 / density1.sum()\n",
    "\n",
    "#Calculate density for loglike weighted results\n",
    "density2, bins = np.histogram(x1, density=True,weights=loglike_weight) \n",
    "unity_density2 = density2 / density2.sum()\n",
    "\n",
    "#Calculate density for likelihood weighted results \n",
    "#density3, bins = np.histogram(x1, density=True, weights=likelihood_weight)\n",
    "#unity_density3 = density3 / density3.sum()\n",
    "\n",
    "#set up figure \n",
    "fig, ((ax1, ax2)) = plt.subplots(nrows=1, ncols=2, sharex=True, figsize=(10,4))\n",
    "widths = bins[:-1] - bins[1:]\n",
    "\n",
    "##############\n",
    "#plot normalised & weighted PDF histograms\n",
    "#plot unweighted histogram \n",
    "#ax1.bar(bins[1:], unity_density1, width=widths, color=[0.4,0.4,0.4,0.5])\n",
    "#plot loglike weighted histogram\n",
    "ax1.bar(bins[1:], unity_density2, width=widths, color=['red'], alpha=0.3)\n",
    "#plot likelihood weighted histogram\n",
    "#ax1.bar(bins[1:], unity_density3, width=widths, color=['indigo'],alpha=0.3)\n",
    "\n",
    "#plot CDF axis 2\n",
    "#plot loglike weighted cumulative DF\n",
    "ax2.bar(bins[1:], unity_density2.cumsum(), width=widths, color=[1,0,0,0.5], edgecolor='none')\n",
    "\n",
    "#axis labels \n",
    "ax1.set_ylabel('Normalised Frequency')\n",
    "ax1.set_xlabel('$Log_{10}$ Y')\n",
    "#ax1.legend(loc='lower left')\n",
    "\n",
    "plt.tight_layout()\n",
    "#plt.figure(figsize=(10,4))\n",
    "\n",
    "fig = plt.gcf()\n",
    "plt.show()\n",
    "plt.draw()\n",
    "#fig.savefig('Y/FR_ratio.png',dpi=300)"
   ]
  },
  {
   "cell_type": "code",
   "execution_count": null,
   "metadata": {},
   "outputs": [],
   "source": [
    "import matplotlib.pyplot as plt\n",
    "from matplotlib.ticker import MultipleLocator\n",
    "\n",
    "#from scipy.special import boxcox1p\n",
    "\n",
    "fig = plt.figure(1)\n",
    "\n",
    "plt.figure(figsize=(10,4))\n",
    "\n",
    "Y=Accept_DF.Y\n",
    "\n",
    "#Y_transform=boxcox1p(new_DF.FR,[0])\n",
    "\n",
    "ax1 = plt.subplot(121) \n",
    "ax2 = plt.subplot(122)\n",
    "\n",
    "Like_weights = Accept_DF.Like\n",
    "\n",
    "\n",
    "x, bins, Like=ax1.hist(Y,bins=10,density=True,weights=Like_weights,color=[0.2,0.2,0.2,0.5],label='Like weighted')\n",
    "\n",
    "for item in Like:\n",
    "    item.set_height(item.get_height()/sum(x))\n",
    "    \n",
    "x, bins, Like=ax2.hist(Y,bins=10,density=True,weights=Like_weights,color=[0.2,0.2,0.2,1], histtype='step', cumulative=True, label='Likelihood weighted')\n",
    "\n",
    "ax1.set_ylim(0,0.25)\n",
    "fig = plt.gcf()\n",
    "plt.show()\n",
    "plt.draw()\n",
    "#fig.savefig('HistLogLike_Y_K0.png',dpi=300)"
   ]
  },
  {
   "cell_type": "code",
   "execution_count": 13,
   "metadata": {},
   "outputs": [
    {
     "name": "stdout",
     "output_type": "stream",
     "text": [
      "[-4.97709185 -4.91888029 -4.72099534 -4.40916624 -4.18269608]\n"
     ]
    }
   ],
   "source": [
    "#calculate weighted perectiles from posterior samples  \n",
    "\n",
    "data = (Accept_DF.K)\n",
    "percents = 5,16,50,84,95\n",
    "\n",
    "#weightings\n",
    "W = Accept_DF.likelihood\n",
    "        \n",
    "ind=np.argsort(data)\n",
    "\n",
    "d=data[ind]\n",
    "w=W[ind]\n",
    "p=1.*w.cumsum()/w.sum()*100\n",
    "y=np.interp(percents, p, d)\n",
    "\n",
    "print (y)"
   ]
  },
  {
   "cell_type": "code",
   "execution_count": null,
   "metadata": {},
   "outputs": [],
   "source": []
  }
 ],
 "metadata": {
  "kernelspec": {
   "display_name": "Python 3",
   "language": "python",
   "name": "python3"
  },
  "language_info": {
   "codemirror_mode": {
    "name": "ipython",
    "version": 3
   },
   "file_extension": ".py",
   "mimetype": "text/x-python",
   "name": "python",
   "nbconvert_exporter": "python",
   "pygments_lexer": "ipython3",
   "version": "3.7.3"
  }
 },
 "nbformat": 4,
 "nbformat_minor": 2
}
